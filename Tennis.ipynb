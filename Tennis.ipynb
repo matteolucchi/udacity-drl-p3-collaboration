{
 "cells": [
  {
   "cell_type": "markdown",
   "metadata": {},
   "source": [
    "# Collaboration and Competition\n",
    "\n",
    "---\n",
    "\n",
    "In this notebook, you will learn how to use the Unity ML-Agents environment for the third project of the [Deep Reinforcement Learning Nanodegree](https://www.udacity.com/course/deep-reinforcement-learning-nanodegree--nd893) program.\n",
    "\n",
    "### 1. Start the Environment\n",
    "\n",
    "We begin by importing the necessary packages.  If the code cell below returns an error, please revisit the project instructions to double-check that you have installed [Unity ML-Agents](https://github.com/Unity-Technologies/ml-agents/blob/master/docs/Installation.md) and [NumPy](http://www.numpy.org/)."
   ]
  },
  {
   "cell_type": "code",
   "execution_count": 1,
   "metadata": {},
   "outputs": [],
   "source": [
    "from unityagents import UnityEnvironment\n",
    "import numpy as np\n",
    "import torch\n",
    "from collections import deque\n",
    "from importlib import reload\n",
    "import matplotlib.pyplot as plt\n",
    "%matplotlib inline\n",
    "\n",
    "import maddpg\n"
   ]
  },
  {
   "cell_type": "markdown",
   "metadata": {},
   "source": [
    "Next, we will start the environment!  **_Before running the code cell below_**, change the `file_name` parameter to match the location of the Unity environment that you downloaded.\n",
    "\n",
    "- **Mac**: `\"path/to/Tennis.app\"`\n",
    "- **Windows** (x86): `\"path/to/Tennis_Windows_x86/Tennis.exe\"`\n",
    "- **Windows** (x86_64): `\"path/to/Tennis_Windows_x86_64/Tennis.exe\"`\n",
    "- **Linux** (x86): `\"path/to/Tennis_Linux/Tennis.x86\"`\n",
    "- **Linux** (x86_64): `\"path/to/Tennis_Linux/Tennis.x86_64\"`\n",
    "- **Linux** (x86, headless): `\"path/to/Tennis_Linux_NoVis/Tennis.x86\"`\n",
    "- **Linux** (x86_64, headless): `\"path/to/Tennis_Linux_NoVis/Tennis.x86_64\"`\n",
    "\n",
    "For instance, if you are using a Mac, then you downloaded `Tennis.app`.  If this file is in the same folder as the notebook, then the line below should appear as follows:\n",
    "```\n",
    "env = UnityEnvironment(file_name=\"Tennis.app\")\n",
    "```"
   ]
  },
  {
   "cell_type": "code",
   "execution_count": 2,
   "metadata": {},
   "outputs": [
    {
     "name": "stderr",
     "output_type": "stream",
     "text": [
      "INFO:unityagents:\n",
      "'Academy' started successfully!\n",
      "Unity Academy name: Academy\n",
      "        Number of Brains: 1\n",
      "        Number of External Brains : 1\n",
      "        Lesson number : 0\n",
      "        Reset Parameters :\n",
      "\t\t\n",
      "Unity brain name: TennisBrain\n",
      "        Number of Visual Observations (per agent): 0\n",
      "        Vector Observation space type: continuous\n",
      "        Vector Observation space size (per agent): 8\n",
      "        Number of stacked Vector Observation: 3\n",
      "        Vector Action space type: continuous\n",
      "        Vector Action space size (per agent): 2\n",
      "        Vector Action descriptions: , \n"
     ]
    }
   ],
   "source": [
    "env = UnityEnvironment(file_name=\"/home/mal/udacity_drl/deep-reinforcement-learning/p3_collab-compet/Tennis_Linux/Tennis.x86_64\")"
   ]
  },
  {
   "cell_type": "markdown",
   "metadata": {},
   "source": [
    "Environments contain **_brains_** which are responsible for deciding the actions of their associated agents. Here we check for the first brain available, and set it as the default brain we will be controlling from Python."
   ]
  },
  {
   "cell_type": "code",
   "execution_count": 3,
   "metadata": {},
   "outputs": [],
   "source": [
    "# get the default brain\n",
    "brain_name = env.brain_names[0]\n",
    "brain = env.brains[brain_name]"
   ]
  },
  {
   "cell_type": "markdown",
   "metadata": {},
   "source": [
    "### 2. Examine the State and Action Spaces\n",
    "\n",
    "In this environment, two agents control rackets to bounce a ball over a net. If an agent hits the ball over the net, it receives a reward of +0.1.  If an agent lets a ball hit the ground or hits the ball out of bounds, it receives a reward of -0.01.  Thus, the goal of each agent is to keep the ball in play.\n",
    "\n",
    "The observation space consists of 8 variables corresponding to the position and velocity of the ball and racket. Two continuous actions are available, corresponding to movement toward (or away from) the net, and jumping. \n",
    "\n",
    "Run the code cell below to print some information about the environment."
   ]
  },
  {
   "cell_type": "code",
   "execution_count": 4,
   "metadata": {},
   "outputs": [
    {
     "name": "stdout",
     "output_type": "stream",
     "text": [
      "Number of agents: 2\n",
      "Size of each action: 2\n",
      "There are 2 agents. Each observes a state with length: 24\n",
      "The state for the first agent looks like: [ 0.          0.          0.          0.          0.          0.\n",
      "  0.          0.          0.          0.          0.          0.\n",
      "  0.          0.          0.          0.         -6.65278625 -1.5\n",
      " -0.          0.          6.83172083  6.         -0.          0.        ]\n"
     ]
    }
   ],
   "source": [
    "# reset the environment\n",
    "env_info = env.reset(train_mode=True)[brain_name]\n",
    "\n",
    "# number of agents \n",
    "num_agents = len(env_info.agents)\n",
    "print('Number of agents:', num_agents)\n",
    "\n",
    "# size of each action\n",
    "action_size = brain.vector_action_space_size\n",
    "print('Size of each action:', action_size)\n",
    "\n",
    "# examine the state space \n",
    "states = env_info.vector_observations\n",
    "state_size = states.shape[1]\n",
    "print('There are {} agents. Each observes a state with length: {}'.format(states.shape[0], state_size))\n",
    "print('The state for the first agent looks like:', states[0])"
   ]
  },
  {
   "cell_type": "markdown",
   "metadata": {},
   "source": [
    "### 3. Take Random Actions in the Environment\n",
    "\n",
    "In the next code cell, you will learn how to use the Python API to control the agents and receive feedback from the environment.\n",
    "\n",
    "Once this cell is executed, you will watch the agents' performance, if they select actions at random with each time step.  A window should pop up that allows you to observe the agents.\n",
    "\n",
    "Of course, as part of the project, you'll have to change the code so that the agents are able to use their experiences to gradually choose better actions when interacting with the environment!"
   ]
  },
  {
   "cell_type": "code",
   "execution_count": 5,
   "metadata": {},
   "outputs": [],
   "source": [
    "for i in range(1, 6):                                      # play game for 5 episodes\n",
    "    env_info = env.reset(train_mode=False)[brain_name]     # reset the environment    \n",
    "    states = env_info.vector_observations                  # get the current state (for each agent)\n",
    "    scores = np.zeros(num_agents)                          # initialize the score (for each agent)\n",
    "    while True:\n",
    "        actions = np.random.randn(num_agents, action_size) # select an action (for each agent)\n",
    "        actions = np.clip(actions, -1, 1)                  # all actions between -1 and 1\n",
    "        env_info = env.step(actions)[brain_name]           # send all actions to tne environment\n",
    "        next_states = env_info.vector_observations         # get next state (for each agent)\n",
    "        rewards = env_info.rewards                         # get reward (for each agent)\n",
    "        dones = env_info.local_done                        # see if episode finished\n",
    "        scores += env_info.rewards                         # update the score (for each agent)\n",
    "        states = next_states                               # roll over states to next time step\n",
    "        if np.any(dones):                                  # exit loop if episode finished\n",
    "            break\n",
    "    print('Score (max over agents) from episode {}: {}'.format(i, np.max(scores)))"
   ]
  },
  {
   "cell_type": "markdown",
   "metadata": {},
   "source": [
    "### 4. Train the agents with DDPG\n",
    "\n",
    "Run the code cell below to train the agent from scratch.  \n",
    "\n",
    "Alternatively, you can skip to the next step below (**5. Watch a Smart Agent!**), to load the saved model weights from a pre-trained agent."
   ]
  },
  {
   "cell_type": "code",
   "execution_count": 6,
   "metadata": {},
   "outputs": [
    {
     "name": "stdout",
     "output_type": "stream",
     "text": [
      "Episode 100\tAverage Score: 0.00000\tCurrent Score: 0.0\n",
      "Episode 200\tAverage Score: 0.00000\tCurrent Score: 0.0\n",
      "Episode 300\tAverage Score: 0.00000\tCurrent Score: 0.0\n"
     ]
    },
    {
     "name": "stderr",
     "output_type": "stream",
     "text": [
      "/home/mal/udacity_drl/deep-reinforcement-learning/p3_collab-compet/udacity-drl-p3-collaboration/maddpg.py:138: UserWarning: torch.nn.utils.clip_grad_norm is now deprecated in favor of torch.nn.utils.clip_grad_norm_.\n",
      "  torch.nn.utils.clip_grad_norm(self.critic_local1.parameters(), 1)\n",
      "/home/mal/udacity_drl/deep-reinforcement-learning/p3_collab-compet/udacity-drl-p3-collaboration/maddpg.py:180: UserWarning: torch.nn.utils.clip_grad_norm is now deprecated in favor of torch.nn.utils.clip_grad_norm_.\n",
      "  torch.nn.utils.clip_grad_norm(self.critic_local2.parameters(), 1)\n"
     ]
    },
    {
     "name": "stdout",
     "output_type": "stream",
     "text": [
      "Episode 400\tAverage Score: 0.00190\tCurrent Score: 0.09000000171363354\n",
      "Episode 500\tAverage Score: 0.02260\tCurrent Score: 0.10000000149011612\n",
      "Episode 600\tAverage Score: 0.02880\tCurrent Score: 0.00000000149011612\n",
      "Episode 700\tAverage Score: 0.01820\tCurrent Score: 0.10000000149011612\n",
      "Episode 800\tAverage Score: 0.06270\tCurrent Score: 0.09000000171363354\n",
      "Episode 900\tAverage Score: 0.10620\tCurrent Score: 0.19000000320374966\n",
      "Episode 1000\tAverage Score: 0.16690\tCurrent Score: 0.10000000149011612\n",
      "Episode 1100\tAverage Score: 0.19370\tCurrent Score: 0.09000000171363354\n",
      "Episode 1200\tAverage Score: 0.20690\tCurrent Score: 0.10000000149011612\n",
      "Episode 1300\tAverage Score: 0.16350\tCurrent Score: 0.10000000149011612\n",
      "Episode 1400\tAverage Score: 0.17180\tCurrent Score: 0.19000000320374966\n",
      "Episode 1500\tAverage Score: 0.18130\tCurrent Score: 0.20000000298023224\n",
      "Episode 1600\tAverage Score: 0.18420\tCurrent Score: 0.10000000149011612\n",
      "Episode 1700\tAverage Score: 0.21510\tCurrent Score: 1.90000002831220632\n",
      "Episode 1800\tAverage Score: 0.29820\tCurrent Score: 0.10000000149011612\n",
      "Episode 1900\tAverage Score: 0.27700\tCurrent Score: 0.10000000149011612\n",
      "Episode 2000\tAverage Score: 0.49300\tCurrent Score: 2.60000003874301922\n",
      "Episode 2002\tAverage Score: 0.51800\tCurrent Score: 2.60000003874301912\n",
      "Environment solved in 1902 episodes!\tAverage Score: 0.5180000078\n"
     ]
    },
    {
     "data": {
      "image/png": "[encoded data removed]",
      "text/plain": [
       "<Figure size 432x288 with 1 Axes>"
      ]
     },
     "metadata": {
      "needs_background": "light"
     },
     "output_type": "display_data"
    }
   ],
   "source": [
    "reload(maddpg)\n",
    "\n",
    "from maddpg import MultiAgent\n",
    "\n",
    "def multi_ddpg(n_episodes=2000, max_t=1000000, print_every=100, num_agents=1):\n",
    "   \n",
    "    agent = MultiAgent(state_size=24, action_size=2, random_seed=2)\n",
    "    \n",
    "    scores_deque = deque(maxlen=print_every)\n",
    "    scores = []                                 # list containing average agent scores from each episode\n",
    "    for i_episode in range(1, n_episodes+1):\n",
    "        env_info = env.reset(train_mode=True)[brain_name]     # reset the environment    \n",
    "        states = env_info.vector_observations                  # get the current state (for each agent)\n",
    "         \n",
    "        agent.reset()\n",
    "\n",
    "        agents_scores = np.zeros(num_agents)                  # list containing the scores of each agent in the last episode\n",
    "        for t in range(max_t):\n",
    "            actions = np.zeros((num_agents,action_size))\n",
    "            actions[0] = agent.act1(states[0])\n",
    "            actions[1] = agent.act2(states[1])\n",
    "\n",
    "            actions = np.clip(actions, -1, 1)   # all actions between -1 and 1\n",
    "            env_info = env.step(actions)[brain_name] \n",
    "            \n",
    "            next_states = env_info.vector_observations         # get next state (for each agent)\n",
    "            rewards = env_info.rewards                         # get reward (for each agent)\n",
    "            dones = env_info.local_done                        # see if episode finished\n",
    "            \n",
    "            for i_agent in range(2):\n",
    "                agent.add_to_memory(states[i_agent], actions[i_agent], rewards[i_agent], next_states[i_agent], dones[i_agent])\n",
    "\n",
    "            if i_episode>300:\n",
    "                for i in range(4):\n",
    "                    agent.learn_from_replay()\n",
    "            \n",
    "            agents_scores += rewards                        # update the score (for each agent)\n",
    "            states = next_states\n",
    "            if np.any(dones):\n",
    "                break\n",
    "        score = np.max(agents_scores)\n",
    "        scores_deque.append(score)\n",
    "        scores.append(score)\n",
    "        print('\\rEpisode {}\\tAverage Score: {:.5f}\\tCurrent Score: {}'.format(i_episode, np.mean(scores_deque), np.max(agents_scores)), end=\"\")\n",
    "        torch.save(agent.actor_local1.state_dict(), 'checkpoint_actor1.pth')\n",
    "        torch.save(agent.critic_local1.state_dict(), 'checkpoint_critic1.pth')\n",
    "        torch.save(agent.actor_local2.state_dict(), 'checkpoint_actor2.pth')\n",
    "        torch.save(agent.critic_local2.state_dict(), 'checkpoint_critic2.pth')\n",
    "        if i_episode % print_every == 0:\n",
    "            print('\\rEpisode {}\\tAverage Score: {:.5f}'.format(i_episode, np.mean(scores_deque)))\n",
    "        if np.mean(scores_deque)>=0.5:\n",
    "            print('\\nEnvironment solved in {:d} episodes!\\tAverage Score: {:.10f}'.format(i_episode-100, np.mean(scores_deque)))\n",
    "            break\n",
    "    return scores\n",
    "\n",
    "scores = multi_ddpg(n_episodes= 3000, num_agents= num_agents)\n",
    "\n",
    "fig = plt.figure()\n",
    "ax = fig.add_subplot(111)\n",
    "plt.plot(np.arange(1, len(scores)+1), scores)\n",
    "plt.ylabel('Score')\n",
    "plt.xlabel('Episode #')\n",
    "plt.show()"
   ]
  },
  {
   "cell_type": "markdown",
   "metadata": {},
   "source": [
    "### 5. Watch a Smart Agent!\n",
    "\n",
    "In the next code cell, you will load the trained weights from file to watch a smart agent trained by me!"
   ]
  },
  {
   "cell_type": "code",
   "execution_count": 12,
   "metadata": {},
   "outputs": [],
   "source": [
    "from maddpg import MultiAgent\n",
    "\n",
    "agent = MultiAgent(state_size=24, action_size=2, random_seed=2)\n",
    "\n",
    "\n",
    "# load the weights from file\n",
    "agent.actor_local1.load_state_dict(torch.load('trained_model_actor1.pth'))\n",
    "agent.critic_local1.load_state_dict(torch.load('trained_model_critic1.pth'))\n",
    "agent.actor_local2.load_state_dict(torch.load('trained_model_actor2.pth'))\n",
    "agent.critic_local2.load_state_dict(torch.load('trained_model_critic2.pth'))\n",
    "\n",
    "\n",
    "for i_episode in range(5):\n",
    "        env_info = env.reset(train_mode=False)[brain_name]     # reset the environment    \n",
    "        states = env_info.vector_observations                  # get the current state (for each agent)\n",
    "         \n",
    "        agent.reset()\n",
    "\n",
    "        agents_scores = np.zeros(num_agents)                  # list containing the scores of each agent in the last episode\n",
    "        for t in range(500):\n",
    "            actions = np.zeros((num_agents,action_size))\n",
    "            actions[0] = agent.act1(states[0])\n",
    "            actions[1] = agent.act2(states[1])\n",
    "\n",
    "            actions = np.clip(actions, -1, 1)   # all actions between -1 and 1\n",
    "            env_info = env.step(actions)[brain_name] \n",
    "            \n",
    "            next_states = env_info.vector_observations         # get next state (for each agent)\n",
    "            rewards = env_info.rewards                         # get reward (for each agent)\n",
    "            dones = env_info.local_done                        # see if episode finished\n",
    "                                    \n",
    "            agents_scores += rewards                        # update the score (for each agent)\n",
    "            states = next_states\n",
    "            if np.any(dones):\n",
    "                break"
   ]
  },
  {
   "cell_type": "markdown",
   "metadata": {},
   "source": [
    "### 6. Watch Your Agent!\n",
    "\n",
    "In the next code cell, you will load the trained weights from the training performed by you to watch the agent trained by you!"
   ]
  },
  {
   "cell_type": "code",
   "execution_count": null,
   "metadata": {},
   "outputs": [],
   "source": [
    "from maddpg import MultiAgent\n",
    "\n",
    "agent = MultiAgent(state_size=24, action_size=2, random_seed=2)\n",
    "\n",
    "\n",
    "# load the weights from file\n",
    "agent.actor_local1.load_state_dict(torch.load('checkpoint_actor1.pth'))\n",
    "agent.critic_local1.load_state_dict(torch.load('checkpoint_critic1.pth'))\n",
    "agent.actor_local2.load_state_dict(torch.load('checkpoint_actor2.pth'))\n",
    "agent.critic_local2.load_state_dict(torch.load('checkpoint_critic2.pth'))\n",
    "\n",
    "\n",
    "for i_episode in range(5):\n",
    "        env_info = env.reset(train_mode=False)[brain_name]     # reset the environment    \n",
    "        states = env_info.vector_observations                  # get the current state (for each agent)\n",
    "         \n",
    "        agent.reset()\n",
    "\n",
    "        agents_scores = np.zeros(num_agents)                  # list containing the scores of each agent in the last episode\n",
    "        for t in range(500):\n",
    "            actions = np.zeros((num_agents,action_size))\n",
    "            actions[0] = agent.act1(states[0])\n",
    "            actions[1] = agent.act2(states[1])\n",
    "\n",
    "            actions = np.clip(actions, -1, 1)   # all actions between -1 and 1\n",
    "            env_info = env.step(actions)[brain_name] \n",
    "            \n",
    "            next_states = env_info.vector_observations         # get next state (for each agent)\n",
    "            rewards = env_info.rewards                         # get reward (for each agent)\n",
    "            dones = env_info.local_done                        # see if episode finished\n",
    "                                    \n",
    "            agents_scores += rewards                        # update the score (for each agent)\n",
    "            states = next_states\n",
    "            if np.any(dones):\n",
    "                break"
   ]
  },
  {
   "cell_type": "markdown",
   "metadata": {},
   "source": [
    "### 7. Close the environment\n",
    "When finished, you can close the environment."
   ]
  },
  {
   "cell_type": "code",
   "execution_count": null,
   "metadata": {},
   "outputs": [],
   "source": [
    "env.close()"
   ]
  }
 ],
 "metadata": {
  "kernelspec": {
   "display_name": "drlnd",
   "language": "python",
   "name": "drlnd"
  },
  "language_info": {
   "codemirror_mode": {
    "name": "ipython",
    "version": 3
   },
   "file_extension": ".py",
   "mimetype": "text/x-python",
   "name": "python",
   "nbconvert_exporter": "python",
   "pygments_lexer": "ipython3",
   "version": "3.6.8"
  }
 },
 "nbformat": 4,
 "nbformat_minor": 2
}
